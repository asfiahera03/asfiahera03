{
  "cells": [
    {
      "cell_type": "markdown",
      "id": "88d1f227",
      "metadata": {
        "id": "88d1f227",
        "papermill": {
          "duration": 0.015288,
          "end_time": "2023-06-14T05:32:20.087567",
          "exception": false,
          "start_time": "2023-06-14T05:32:20.072279",
          "status": "completed"
        },
        "tags": []
      },
      "source": [
        "#Wine Understanding Prediction using Support Vector Machine"
      ]
    },
    {
      "cell_type": "markdown",
      "id": "2bc03cfb",
      "metadata": {
        "id": "2bc03cfb",
        "papermill": {
          "duration": 0.014015,
          "end_time": "2023-06-14T05:32:20.116297",
          "exception": false,
          "start_time": "2023-06-14T05:32:20.102282",
          "status": "completed"
        },
        "tags": []
      },
      "source": [
        "# Get Understanding about Data set"
      ]
    },
    {
      "cell_type": "markdown",
      "id": "d620e014",
      "metadata": {
        "id": "d620e014",
        "papermill": {
          "duration": 0.013941,
          "end_time": "2023-06-14T05:32:20.144494",
          "exception": false,
          "start_time": "2023-06-14T05:32:20.130553",
          "status": "completed"
        },
        "tags": []
      },
      "source": [
        "white wine has twelve variables\n",
        "1. Fixed Acidity\n",
        "2. Volatile Acidity\n",
        "3. Citric Acid\n",
        "4. Residual Sugar\n",
        "5. Chlorides\n",
        "6. Free Sulfur Dioxide\n",
        "7. Total Sulfur Dioxide\n",
        "8. Density\n",
        "9. pH\n",
        "10. Sulphates\n",
        "11. Alcohol\n",
        "12. Quality"
      ]
    },
    {
      "cell_type": "markdown",
      "id": "1a800aaa",
      "metadata": {
        "id": "1a800aaa",
        "papermill": {
          "duration": 0.013844,
          "end_time": "2023-06-14T05:32:20.172414",
          "exception": false,
          "start_time": "2023-06-14T05:32:20.158570",
          "status": "completed"
        },
        "tags": []
      },
      "source": [
        "# Import Library"
      ]
    },
    {
      "cell_type": "code",
      "execution_count": null,
      "id": "78d0e79c",
      "metadata": {
        "execution": {
          "iopub.execute_input": "2023-06-14T05:32:20.202647Z",
          "iopub.status.busy": "2023-06-14T05:32:20.202234Z",
          "iopub.status.idle": "2023-06-14T05:32:20.213850Z",
          "shell.execute_reply": "2023-06-14T05:32:20.213013Z"
        },
        "id": "78d0e79c",
        "papermill": {
          "duration": 0.029461,
          "end_time": "2023-06-14T05:32:20.216042",
          "exception": false,
          "start_time": "2023-06-14T05:32:20.186581",
          "status": "completed"
        },
        "tags": []
      },
      "outputs": [],
      "source": [
        "import pandas as pd"
      ]
    },
    {
      "cell_type": "code",
      "execution_count": null,
      "id": "12cd8da0",
      "metadata": {
        "execution": {
          "iopub.execute_input": "2023-06-14T05:32:20.248022Z",
          "iopub.status.busy": "2023-06-14T05:32:20.246795Z",
          "iopub.status.idle": "2023-06-14T05:32:20.252350Z",
          "shell.execute_reply": "2023-06-14T05:32:20.251241Z"
        },
        "id": "12cd8da0",
        "papermill": {
          "duration": 0.024294,
          "end_time": "2023-06-14T05:32:20.254904",
          "exception": false,
          "start_time": "2023-06-14T05:32:20.230610",
          "status": "completed"
        },
        "tags": []
      },
      "outputs": [],
      "source": [
        "import numpy as np"
      ]
    },
    {
      "cell_type": "markdown",
      "id": "196a5387",
      "metadata": {
        "id": "196a5387",
        "papermill": {
          "duration": 0.014302,
          "end_time": "2023-06-14T05:32:20.284268",
          "exception": false,
          "start_time": "2023-06-14T05:32:20.269966",
          "status": "completed"
        },
        "tags": []
      },
      "source": [
        "# Import CSV as DataFrame\n",
        "\n",
        "Use URL of file directly"
      ]
    },
    {
      "cell_type": "code",
      "execution_count": null,
      "id": "75d76501",
      "metadata": {
        "execution": {
          "iopub.execute_input": "2023-06-14T05:32:20.315239Z",
          "iopub.status.busy": "2023-06-14T05:32:20.314883Z",
          "iopub.status.idle": "2023-06-14T05:32:21.243702Z",
          "shell.execute_reply": "2023-06-14T05:32:21.242670Z"
        },
        "id": "75d76501",
        "papermill": {
          "duration": 0.947357,
          "end_time": "2023-06-14T05:32:21.246386",
          "exception": false,
          "start_time": "2023-06-14T05:32:20.299029",
          "status": "completed"
        },
        "tags": []
      },
      "outputs": [],
      "source": [
        "df = pd.read_csv(r'https://github.com/YBIFoundation/Dataset/raw/main/WhiteWineQuality.csv',sep=';')"
      ]
    },
    {
      "cell_type": "markdown",
      "id": "fa0ba9d0",
      "metadata": {
        "id": "fa0ba9d0",
        "papermill": {
          "duration": 0.014233,
          "end_time": "2023-06-14T05:32:21.275216",
          "exception": false,
          "start_time": "2023-06-14T05:32:21.260983",
          "status": "completed"
        },
        "tags": []
      },
      "source": [
        "or use Local path in Jupyter notebook"
      ]
    },
    {
      "cell_type": "code",
      "execution_count": null,
      "id": "7c665795",
      "metadata": {
        "execution": {
          "iopub.execute_input": "2023-06-14T05:32:21.306631Z",
          "iopub.status.busy": "2023-06-14T05:32:21.306227Z",
          "iopub.status.idle": "2023-06-14T05:32:21.311183Z",
          "shell.execute_reply": "2023-06-14T05:32:21.310002Z"
        },
        "id": "7c665795",
        "papermill": {
          "duration": 0.02337,
          "end_time": "2023-06-14T05:32:21.313341",
          "exception": false,
          "start_time": "2023-06-14T05:32:21.289971",
          "status": "completed"
        },
        "tags": []
      },
      "outputs": [],
      "source": [
        " # df = pd.read_csv(r'C:\\Users\\YBIFoundation\\Desktop\\WhiteWineQuality.csv')"
      ]
    },
    {
      "cell_type": "markdown",
      "id": "6f2eb4f8",
      "metadata": {
        "id": "6f2eb4f8",
        "papermill": {
          "duration": 0.014065,
          "end_time": "2023-06-14T05:32:21.341848",
          "exception": false,
          "start_time": "2023-06-14T05:32:21.327783",
          "status": "completed"
        },
        "tags": []
      },
      "source": [
        "or use file path after uploading file in Google Colab Notebook\n",
        "\n"
      ]
    },
    {
      "cell_type": "code",
      "execution_count": null,
      "id": "d98bc806",
      "metadata": {
        "execution": {
          "iopub.execute_input": "2023-06-14T05:32:21.373061Z",
          "iopub.status.busy": "2023-06-14T05:32:21.372087Z",
          "iopub.status.idle": "2023-06-14T05:32:21.376669Z",
          "shell.execute_reply": "2023-06-14T05:32:21.375688Z"
        },
        "id": "d98bc806",
        "papermill": {
          "duration": 0.022554,
          "end_time": "2023-06-14T05:32:21.378962",
          "exception": false,
          "start_time": "2023-06-14T05:32:21.356408",
          "status": "completed"
        },
        "tags": []
      },
      "outputs": [],
      "source": [
        "# df = pd.read_csv(r'/content/WhiteWineQuality.csv')"
      ]
    },
    {
      "cell_type": "markdown",
      "id": "4d5aab8f",
      "metadata": {
        "id": "4d5aab8f",
        "papermill": {
          "duration": 0.014163,
          "end_time": "2023-06-14T05:32:21.407649",
          "exception": false,
          "start_time": "2023-06-14T05:32:21.393486",
          "status": "completed"
        },
        "tags": []
      },
      "source": [
        "Get the first Five Rows of Dataframe"
      ]
    },
    {
      "cell_type": "code",
      "execution_count": null,
      "id": "a55e0d4e",
      "metadata": {
        "execution": {
          "iopub.execute_input": "2023-06-14T05:32:21.438292Z",
          "iopub.status.busy": "2023-06-14T05:32:21.437883Z",
          "iopub.status.idle": "2023-06-14T05:32:21.476621Z",
          "shell.execute_reply": "2023-06-14T05:32:21.475705Z"
        },
        "id": "a55e0d4e",
        "outputId": "e0ba3aeb-5286-4e66-9943-d05d953acdfe",
        "papermill": {
          "duration": 0.056822,
          "end_time": "2023-06-14T05:32:21.478959",
          "exception": false,
          "start_time": "2023-06-14T05:32:21.422137",
          "status": "completed"
        },
        "tags": []
      },
      "outputs": [
        {
          "data": {
            "text/html": [
              "<div>\n",
              "<style scoped>\n",
              "    .dataframe tbody tr th:only-of-type {\n",
              "        vertical-align: middle;\n",
              "    }\n",
              "\n",
              "    .dataframe tbody tr th {\n",
              "        vertical-align: top;\n",
              "    }\n",
              "\n",
              "    .dataframe thead th {\n",
              "        text-align: right;\n",
              "    }\n",
              "</style>\n",
              "<table border=\"1\" class=\"dataframe\">\n",
              "  <thead>\n",
              "    <tr style=\"text-align: right;\">\n",
              "      <th></th>\n",
              "      <th>fixed acidity</th>\n",
              "      <th>volatile acidity</th>\n",
              "      <th>citric acid</th>\n",
              "      <th>residual sugar</th>\n",
              "      <th>chlorides</th>\n",
              "      <th>free sulfur dioxide</th>\n",
              "      <th>total sulfur dioxide</th>\n",
              "      <th>density</th>\n",
              "      <th>pH</th>\n",
              "      <th>sulphates</th>\n",
              "      <th>alcohol</th>\n",
              "      <th>quality</th>\n",
              "    </tr>\n",
              "  </thead>\n",
              "  <tbody>\n",
              "    <tr>\n",
              "      <th>0</th>\n",
              "      <td>7.0</td>\n",
              "      <td>0.27</td>\n",
              "      <td>0.36</td>\n",
              "      <td>20.7</td>\n",
              "      <td>0.045</td>\n",
              "      <td>45.0</td>\n",
              "      <td>170.0</td>\n",
              "      <td>1.0010</td>\n",
              "      <td>3.00</td>\n",
              "      <td>0.45</td>\n",
              "      <td>8.8</td>\n",
              "      <td>6</td>\n",
              "    </tr>\n",
              "    <tr>\n",
              "      <th>1</th>\n",
              "      <td>6.3</td>\n",
              "      <td>0.30</td>\n",
              "      <td>0.34</td>\n",
              "      <td>1.6</td>\n",
              "      <td>0.049</td>\n",
              "      <td>14.0</td>\n",
              "      <td>132.0</td>\n",
              "      <td>0.9940</td>\n",
              "      <td>3.30</td>\n",
              "      <td>0.49</td>\n",
              "      <td>9.5</td>\n",
              "      <td>6</td>\n",
              "    </tr>\n",
              "    <tr>\n",
              "      <th>2</th>\n",
              "      <td>8.1</td>\n",
              "      <td>0.28</td>\n",
              "      <td>0.40</td>\n",
              "      <td>6.9</td>\n",
              "      <td>0.050</td>\n",
              "      <td>30.0</td>\n",
              "      <td>97.0</td>\n",
              "      <td>0.9951</td>\n",
              "      <td>3.26</td>\n",
              "      <td>0.44</td>\n",
              "      <td>10.1</td>\n",
              "      <td>6</td>\n",
              "    </tr>\n",
              "    <tr>\n",
              "      <th>3</th>\n",
              "      <td>7.2</td>\n",
              "      <td>0.23</td>\n",
              "      <td>0.32</td>\n",
              "      <td>8.5</td>\n",
              "      <td>0.058</td>\n",
              "      <td>47.0</td>\n",
              "      <td>186.0</td>\n",
              "      <td>0.9956</td>\n",
              "      <td>3.19</td>\n",
              "      <td>0.40</td>\n",
              "      <td>9.9</td>\n",
              "      <td>6</td>\n",
              "    </tr>\n",
              "    <tr>\n",
              "      <th>4</th>\n",
              "      <td>7.2</td>\n",
              "      <td>0.23</td>\n",
              "      <td>0.32</td>\n",
              "      <td>8.5</td>\n",
              "      <td>0.058</td>\n",
              "      <td>47.0</td>\n",
              "      <td>186.0</td>\n",
              "      <td>0.9956</td>\n",
              "      <td>3.19</td>\n",
              "      <td>0.40</td>\n",
              "      <td>9.9</td>\n",
              "      <td>6</td>\n",
              "    </tr>\n",
              "  </tbody>\n",
              "</table>\n",
              "</div>"
            ],
            "text/plain": [
              "   fixed acidity  volatile acidity  citric acid  residual sugar  chlorides  \\\n",
              "0            7.0              0.27         0.36            20.7      0.045   \n",
              "1            6.3              0.30         0.34             1.6      0.049   \n",
              "2            8.1              0.28         0.40             6.9      0.050   \n",
              "3            7.2              0.23         0.32             8.5      0.058   \n",
              "4            7.2              0.23         0.32             8.5      0.058   \n",
              "\n",
              "   free sulfur dioxide  total sulfur dioxide  density    pH  sulphates  \\\n",
              "0                 45.0                 170.0   1.0010  3.00       0.45   \n",
              "1                 14.0                 132.0   0.9940  3.30       0.49   \n",
              "2                 30.0                  97.0   0.9951  3.26       0.44   \n",
              "3                 47.0                 186.0   0.9956  3.19       0.40   \n",
              "4                 47.0                 186.0   0.9956  3.19       0.40   \n",
              "\n",
              "   alcohol  quality  \n",
              "0      8.8        6  \n",
              "1      9.5        6  \n",
              "2     10.1        6  \n",
              "3      9.9        6  \n",
              "4      9.9        6  "
            ]
          },
          "execution_count": 6,
          "metadata": {},
          "output_type": "execute_result"
        }
      ],
      "source": [
        "df.head()"
      ]
    },
    {
      "cell_type": "markdown",
      "id": "1076fc1e",
      "metadata": {
        "id": "1076fc1e",
        "papermill": {
          "duration": 0.014766,
          "end_time": "2023-06-14T05:32:21.509062",
          "exception": false,
          "start_time": "2023-06-14T05:32:21.494296",
          "status": "completed"
        },
        "tags": []
      },
      "source": [
        "#Get Information of Dataframe"
      ]
    },
    {
      "cell_type": "code",
      "execution_count": null,
      "id": "155a7f9a",
      "metadata": {
        "execution": {
          "iopub.execute_input": "2023-06-14T05:32:21.541409Z",
          "iopub.status.busy": "2023-06-14T05:32:21.540734Z",
          "iopub.status.idle": "2023-06-14T05:32:21.571584Z",
          "shell.execute_reply": "2023-06-14T05:32:21.570647Z"
        },
        "id": "155a7f9a",
        "outputId": "95866032-a3ab-4611-e37b-00b9e36b864b",
        "papermill": {
          "duration": 0.050892,
          "end_time": "2023-06-14T05:32:21.575092",
          "exception": false,
          "start_time": "2023-06-14T05:32:21.524200",
          "status": "completed"
        },
        "tags": []
      },
      "outputs": [
        {
          "name": "stdout",
          "output_type": "stream",
          "text": [
            "<class 'pandas.core.frame.DataFrame'>\n",
            "RangeIndex: 4898 entries, 0 to 4897\n",
            "Data columns (total 12 columns):\n",
            " #   Column                Non-Null Count  Dtype  \n",
            "---  ------                --------------  -----  \n",
            " 0   fixed acidity         4898 non-null   float64\n",
            " 1   volatile acidity      4898 non-null   float64\n",
            " 2   citric acid           4898 non-null   float64\n",
            " 3   residual sugar        4898 non-null   float64\n",
            " 4   chlorides             4898 non-null   float64\n",
            " 5   free sulfur dioxide   4898 non-null   float64\n",
            " 6   total sulfur dioxide  4898 non-null   float64\n",
            " 7   density               4898 non-null   float64\n",
            " 8   pH                    4898 non-null   float64\n",
            " 9   sulphates             4898 non-null   float64\n",
            " 10  alcohol               4898 non-null   float64\n",
            " 11  quality               4898 non-null   int64  \n",
            "dtypes: float64(11), int64(1)\n",
            "memory usage: 459.3 KB\n"
          ]
        }
      ],
      "source": [
        "df.info()"
      ]
    },
    {
      "cell_type": "markdown",
      "id": "61d07d35",
      "metadata": {
        "id": "61d07d35",
        "papermill": {
          "duration": 0.015329,
          "end_time": "2023-06-14T05:32:21.606640",
          "exception": false,
          "start_time": "2023-06-14T05:32:21.591311",
          "status": "completed"
        },
        "tags": []
      },
      "source": [
        "Get the Summary Statistics"
      ]
    },
    {
      "cell_type": "code",
      "execution_count": null,
      "id": "769be015",
      "metadata": {
        "execution": {
          "iopub.execute_input": "2023-06-14T05:32:21.639478Z",
          "iopub.status.busy": "2023-06-14T05:32:21.639033Z",
          "iopub.status.idle": "2023-06-14T05:32:21.658379Z",
          "shell.execute_reply": "2023-06-14T05:32:21.657186Z"
        },
        "id": "769be015",
        "outputId": "56dd7f52-1388-4979-c207-2c72754d180f",
        "papermill": {
          "duration": 0.038808,
          "end_time": "2023-06-14T05:32:21.660846",
          "exception": false,
          "start_time": "2023-06-14T05:32:21.622038",
          "status": "completed"
        },
        "tags": []
      },
      "outputs": [
        {
          "data": {
            "text/plain": [
              "<bound method NDFrame.describe of       fixed acidity  volatile acidity  citric acid  residual sugar  chlorides  \\\n",
              "0               7.0              0.27         0.36            20.7      0.045   \n",
              "1               6.3              0.30         0.34             1.6      0.049   \n",
              "2               8.1              0.28         0.40             6.9      0.050   \n",
              "3               7.2              0.23         0.32             8.5      0.058   \n",
              "4               7.2              0.23         0.32             8.5      0.058   \n",
              "...             ...               ...          ...             ...        ...   \n",
              "4893            6.2              0.21         0.29             1.6      0.039   \n",
              "4894            6.6              0.32         0.36             8.0      0.047   \n",
              "4895            6.5              0.24         0.19             1.2      0.041   \n",
              "4896            5.5              0.29         0.30             1.1      0.022   \n",
              "4897            6.0              0.21         0.38             0.8      0.020   \n",
              "\n",
              "      free sulfur dioxide  total sulfur dioxide  density    pH  sulphates  \\\n",
              "0                    45.0                 170.0  1.00100  3.00       0.45   \n",
              "1                    14.0                 132.0  0.99400  3.30       0.49   \n",
              "2                    30.0                  97.0  0.99510  3.26       0.44   \n",
              "3                    47.0                 186.0  0.99560  3.19       0.40   \n",
              "4                    47.0                 186.0  0.99560  3.19       0.40   \n",
              "...                   ...                   ...      ...   ...        ...   \n",
              "4893                 24.0                  92.0  0.99114  3.27       0.50   \n",
              "4894                 57.0                 168.0  0.99490  3.15       0.46   \n",
              "4895                 30.0                 111.0  0.99254  2.99       0.46   \n",
              "4896                 20.0                 110.0  0.98869  3.34       0.38   \n",
              "4897                 22.0                  98.0  0.98941  3.26       0.32   \n",
              "\n",
              "      alcohol  quality  \n",
              "0         8.8        6  \n",
              "1         9.5        6  \n",
              "2        10.1        6  \n",
              "3         9.9        6  \n",
              "4         9.9        6  \n",
              "...       ...      ...  \n",
              "4893     11.2        6  \n",
              "4894      9.6        5  \n",
              "4895      9.4        6  \n",
              "4896     12.8        7  \n",
              "4897     11.8        6  \n",
              "\n",
              "[4898 rows x 12 columns]>"
            ]
          },
          "execution_count": 8,
          "metadata": {},
          "output_type": "execute_result"
        }
      ],
      "source": [
        "df.describe"
      ]
    },
    {
      "cell_type": "markdown",
      "id": "8f896d19",
      "metadata": {
        "id": "8f896d19",
        "papermill": {
          "duration": 0.015366,
          "end_time": "2023-06-14T05:32:21.691976",
          "exception": false,
          "start_time": "2023-06-14T05:32:21.676610",
          "status": "completed"
        },
        "tags": []
      },
      "source": [
        "Get Column Names"
      ]
    },
    {
      "cell_type": "code",
      "execution_count": null,
      "id": "bf4052c8",
      "metadata": {
        "execution": {
          "iopub.execute_input": "2023-06-14T05:32:21.725467Z",
          "iopub.status.busy": "2023-06-14T05:32:21.725074Z",
          "iopub.status.idle": "2023-06-14T05:32:21.732645Z",
          "shell.execute_reply": "2023-06-14T05:32:21.731464Z"
        },
        "id": "bf4052c8",
        "outputId": "e4e765df-995f-4fec-b728-93ddf77faab7",
        "papermill": {
          "duration": 0.027043,
          "end_time": "2023-06-14T05:32:21.735217",
          "exception": false,
          "start_time": "2023-06-14T05:32:21.708174",
          "status": "completed"
        },
        "tags": []
      },
      "outputs": [
        {
          "data": {
            "text/plain": [
              "Index(['fixed acidity', 'volatile acidity', 'citric acid', 'residual sugar',\n",
              "       'chlorides', 'free sulfur dioxide', 'total sulfur dioxide', 'density',\n",
              "       'pH', 'sulphates', 'alcohol', 'quality'],\n",
              "      dtype='object')"
            ]
          },
          "execution_count": 9,
          "metadata": {},
          "output_type": "execute_result"
        }
      ],
      "source": [
        "df.columns"
      ]
    },
    {
      "cell_type": "markdown",
      "id": "47788678",
      "metadata": {
        "id": "47788678",
        "papermill": {
          "duration": 0.015515,
          "end_time": "2023-06-14T05:32:21.766515",
          "exception": false,
          "start_time": "2023-06-14T05:32:21.751000",
          "status": "completed"
        },
        "tags": []
      },
      "source": [
        "Get Shape of DataFrame"
      ]
    },
    {
      "cell_type": "code",
      "execution_count": null,
      "id": "04c08206",
      "metadata": {
        "execution": {
          "iopub.execute_input": "2023-06-14T05:32:21.801187Z",
          "iopub.status.busy": "2023-06-14T05:32:21.800226Z",
          "iopub.status.idle": "2023-06-14T05:32:21.807530Z",
          "shell.execute_reply": "2023-06-14T05:32:21.806177Z"
        },
        "id": "04c08206",
        "outputId": "2b988793-dd12-47a3-b657-f7131099d8f6",
        "papermill": {
          "duration": 0.027338,
          "end_time": "2023-06-14T05:32:21.810201",
          "exception": false,
          "start_time": "2023-06-14T05:32:21.782863",
          "status": "completed"
        },
        "tags": []
      },
      "outputs": [
        {
          "data": {
            "text/plain": [
              "(4898, 12)"
            ]
          },
          "execution_count": 10,
          "metadata": {},
          "output_type": "execute_result"
        }
      ],
      "source": [
        "df.shape"
      ]
    },
    {
      "cell_type": "markdown",
      "id": "faa9b0a6",
      "metadata": {
        "id": "faa9b0a6",
        "papermill": {
          "duration": 0.015956,
          "end_time": "2023-06-14T05:32:21.842860",
          "exception": false,
          "start_time": "2023-06-14T05:32:21.826904",
          "status": "completed"
        },
        "tags": []
      },
      "source": [
        "#Get Unique Values(Class or Label) in y variable"
      ]
    },
    {
      "cell_type": "code",
      "execution_count": null,
      "id": "2038d3ec",
      "metadata": {
        "execution": {
          "iopub.execute_input": "2023-06-14T05:32:21.877209Z",
          "iopub.status.busy": "2023-06-14T05:32:21.876456Z",
          "iopub.status.idle": "2023-06-14T05:32:21.885262Z",
          "shell.execute_reply": "2023-06-14T05:32:21.884048Z"
        },
        "id": "2038d3ec",
        "outputId": "308c38cb-ece9-427c-d14f-49d395de2ca3",
        "papermill": {
          "duration": 0.028958,
          "end_time": "2023-06-14T05:32:21.887878",
          "exception": false,
          "start_time": "2023-06-14T05:32:21.858920",
          "status": "completed"
        },
        "tags": []
      },
      "outputs": [
        {
          "data": {
            "text/plain": [
              "6    2198\n",
              "5    1457\n",
              "7     880\n",
              "8     175\n",
              "4     163\n",
              "3      20\n",
              "9       5\n",
              "Name: quality, dtype: int64"
            ]
          },
          "execution_count": 11,
          "metadata": {},
          "output_type": "execute_result"
        }
      ],
      "source": [
        "df['quality'].value_counts()"
      ]
    },
    {
      "cell_type": "code",
      "execution_count": null,
      "id": "3575dce3",
      "metadata": {
        "execution": {
          "iopub.execute_input": "2023-06-14T05:32:21.923407Z",
          "iopub.status.busy": "2023-06-14T05:32:21.922602Z",
          "iopub.status.idle": "2023-06-14T05:32:21.946966Z",
          "shell.execute_reply": "2023-06-14T05:32:21.945861Z"
        },
        "id": "3575dce3",
        "outputId": "e0bf63ad-a1d0-4e97-a3d5-c90f55a57409",
        "papermill": {
          "duration": 0.045619,
          "end_time": "2023-06-14T05:32:21.949922",
          "exception": false,
          "start_time": "2023-06-14T05:32:21.904303",
          "status": "completed"
        },
        "tags": []
      },
      "outputs": [
        {
          "data": {
            "text/html": [
              "<div>\n",
              "<style scoped>\n",
              "    .dataframe tbody tr th:only-of-type {\n",
              "        vertical-align: middle;\n",
              "    }\n",
              "\n",
              "    .dataframe tbody tr th {\n",
              "        vertical-align: top;\n",
              "    }\n",
              "\n",
              "    .dataframe thead th {\n",
              "        text-align: right;\n",
              "    }\n",
              "</style>\n",
              "<table border=\"1\" class=\"dataframe\">\n",
              "  <thead>\n",
              "    <tr style=\"text-align: right;\">\n",
              "      <th></th>\n",
              "      <th>fixed acidity</th>\n",
              "      <th>volatile acidity</th>\n",
              "      <th>citric acid</th>\n",
              "      <th>residual sugar</th>\n",
              "      <th>chlorides</th>\n",
              "      <th>free sulfur dioxide</th>\n",
              "      <th>total sulfur dioxide</th>\n",
              "      <th>density</th>\n",
              "      <th>pH</th>\n",
              "      <th>sulphates</th>\n",
              "      <th>alcohol</th>\n",
              "    </tr>\n",
              "    <tr>\n",
              "      <th>quality</th>\n",
              "      <th></th>\n",
              "      <th></th>\n",
              "      <th></th>\n",
              "      <th></th>\n",
              "      <th></th>\n",
              "      <th></th>\n",
              "      <th></th>\n",
              "      <th></th>\n",
              "      <th></th>\n",
              "      <th></th>\n",
              "      <th></th>\n",
              "    </tr>\n",
              "  </thead>\n",
              "  <tbody>\n",
              "    <tr>\n",
              "      <th>3</th>\n",
              "      <td>7.600000</td>\n",
              "      <td>0.333250</td>\n",
              "      <td>0.336000</td>\n",
              "      <td>6.392500</td>\n",
              "      <td>0.054300</td>\n",
              "      <td>53.325000</td>\n",
              "      <td>170.600000</td>\n",
              "      <td>0.994884</td>\n",
              "      <td>3.187500</td>\n",
              "      <td>0.474500</td>\n",
              "      <td>10.345000</td>\n",
              "    </tr>\n",
              "    <tr>\n",
              "      <th>4</th>\n",
              "      <td>7.129448</td>\n",
              "      <td>0.381227</td>\n",
              "      <td>0.304233</td>\n",
              "      <td>4.628221</td>\n",
              "      <td>0.050098</td>\n",
              "      <td>23.358896</td>\n",
              "      <td>125.279141</td>\n",
              "      <td>0.994277</td>\n",
              "      <td>3.182883</td>\n",
              "      <td>0.476135</td>\n",
              "      <td>10.152454</td>\n",
              "    </tr>\n",
              "    <tr>\n",
              "      <th>5</th>\n",
              "      <td>6.933974</td>\n",
              "      <td>0.302011</td>\n",
              "      <td>0.337653</td>\n",
              "      <td>7.334969</td>\n",
              "      <td>0.051546</td>\n",
              "      <td>36.432052</td>\n",
              "      <td>150.904598</td>\n",
              "      <td>0.995263</td>\n",
              "      <td>3.168833</td>\n",
              "      <td>0.482203</td>\n",
              "      <td>9.808840</td>\n",
              "    </tr>\n",
              "    <tr>\n",
              "      <th>6</th>\n",
              "      <td>6.837671</td>\n",
              "      <td>0.260564</td>\n",
              "      <td>0.338025</td>\n",
              "      <td>6.441606</td>\n",
              "      <td>0.045217</td>\n",
              "      <td>35.650591</td>\n",
              "      <td>137.047316</td>\n",
              "      <td>0.993961</td>\n",
              "      <td>3.188599</td>\n",
              "      <td>0.491106</td>\n",
              "      <td>10.575372</td>\n",
              "    </tr>\n",
              "    <tr>\n",
              "      <th>7</th>\n",
              "      <td>6.734716</td>\n",
              "      <td>0.262767</td>\n",
              "      <td>0.325625</td>\n",
              "      <td>5.186477</td>\n",
              "      <td>0.038191</td>\n",
              "      <td>34.125568</td>\n",
              "      <td>125.114773</td>\n",
              "      <td>0.992452</td>\n",
              "      <td>3.213898</td>\n",
              "      <td>0.503102</td>\n",
              "      <td>11.367936</td>\n",
              "    </tr>\n",
              "    <tr>\n",
              "      <th>8</th>\n",
              "      <td>6.657143</td>\n",
              "      <td>0.277400</td>\n",
              "      <td>0.326514</td>\n",
              "      <td>5.671429</td>\n",
              "      <td>0.038314</td>\n",
              "      <td>36.720000</td>\n",
              "      <td>126.165714</td>\n",
              "      <td>0.992236</td>\n",
              "      <td>3.218686</td>\n",
              "      <td>0.486229</td>\n",
              "      <td>11.636000</td>\n",
              "    </tr>\n",
              "    <tr>\n",
              "      <th>9</th>\n",
              "      <td>7.420000</td>\n",
              "      <td>0.298000</td>\n",
              "      <td>0.386000</td>\n",
              "      <td>4.120000</td>\n",
              "      <td>0.027400</td>\n",
              "      <td>33.400000</td>\n",
              "      <td>116.000000</td>\n",
              "      <td>0.991460</td>\n",
              "      <td>3.308000</td>\n",
              "      <td>0.466000</td>\n",
              "      <td>12.180000</td>\n",
              "    </tr>\n",
              "  </tbody>\n",
              "</table>\n",
              "</div>"
            ],
            "text/plain": [
              "         fixed acidity  volatile acidity  citric acid  residual sugar  \\\n",
              "quality                                                                 \n",
              "3             7.600000          0.333250     0.336000        6.392500   \n",
              "4             7.129448          0.381227     0.304233        4.628221   \n",
              "5             6.933974          0.302011     0.337653        7.334969   \n",
              "6             6.837671          0.260564     0.338025        6.441606   \n",
              "7             6.734716          0.262767     0.325625        5.186477   \n",
              "8             6.657143          0.277400     0.326514        5.671429   \n",
              "9             7.420000          0.298000     0.386000        4.120000   \n",
              "\n",
              "         chlorides  free sulfur dioxide  total sulfur dioxide   density  \\\n",
              "quality                                                                   \n",
              "3         0.054300            53.325000            170.600000  0.994884   \n",
              "4         0.050098            23.358896            125.279141  0.994277   \n",
              "5         0.051546            36.432052            150.904598  0.995263   \n",
              "6         0.045217            35.650591            137.047316  0.993961   \n",
              "7         0.038191            34.125568            125.114773  0.992452   \n",
              "8         0.038314            36.720000            126.165714  0.992236   \n",
              "9         0.027400            33.400000            116.000000  0.991460   \n",
              "\n",
              "               pH  sulphates    alcohol  \n",
              "quality                                  \n",
              "3        3.187500   0.474500  10.345000  \n",
              "4        3.182883   0.476135  10.152454  \n",
              "5        3.168833   0.482203   9.808840  \n",
              "6        3.188599   0.491106  10.575372  \n",
              "7        3.213898   0.503102  11.367936  \n",
              "8        3.218686   0.486229  11.636000  \n",
              "9        3.308000   0.466000  12.180000  "
            ]
          },
          "execution_count": 12,
          "metadata": {},
          "output_type": "execute_result"
        }
      ],
      "source": [
        "df.groupby('quality').mean()"
      ]
    },
    {
      "cell_type": "markdown",
      "id": "29d17fd8",
      "metadata": {
        "id": "29d17fd8",
        "papermill": {
          "duration": 0.018414,
          "end_time": "2023-06-14T05:32:21.985614",
          "exception": false,
          "start_time": "2023-06-14T05:32:21.967200",
          "status": "completed"
        },
        "tags": []
      },
      "source": [
        "#Define y(dependent or label or target variable) and x (independent or features or attribute Variable)"
      ]
    },
    {
      "cell_type": "code",
      "execution_count": null,
      "id": "69ee18e3",
      "metadata": {
        "execution": {
          "iopub.execute_input": "2023-06-14T05:32:22.020854Z",
          "iopub.status.busy": "2023-06-14T05:32:22.020488Z",
          "iopub.status.idle": "2023-06-14T05:32:22.025918Z",
          "shell.execute_reply": "2023-06-14T05:32:22.024667Z"
        },
        "id": "69ee18e3",
        "papermill": {
          "duration": 0.025509,
          "end_time": "2023-06-14T05:32:22.028018",
          "exception": false,
          "start_time": "2023-06-14T05:32:22.002509",
          "status": "completed"
        },
        "tags": []
      },
      "outputs": [],
      "source": [
        "y = df['quality']"
      ]
    },
    {
      "cell_type": "code",
      "execution_count": null,
      "id": "8d0ac306",
      "metadata": {
        "execution": {
          "iopub.execute_input": "2023-06-14T05:32:22.064131Z",
          "iopub.status.busy": "2023-06-14T05:32:22.062828Z",
          "iopub.status.idle": "2023-06-14T05:32:22.070119Z",
          "shell.execute_reply": "2023-06-14T05:32:22.069053Z"
        },
        "id": "8d0ac306",
        "outputId": "f7a27957-0f6a-412b-c8a7-ca9707d2ef0a",
        "papermill": {
          "duration": 0.027768,
          "end_time": "2023-06-14T05:32:22.072501",
          "exception": false,
          "start_time": "2023-06-14T05:32:22.044733",
          "status": "completed"
        },
        "tags": []
      },
      "outputs": [
        {
          "data": {
            "text/plain": [
              "(4898,)"
            ]
          },
          "execution_count": 14,
          "metadata": {},
          "output_type": "execute_result"
        }
      ],
      "source": [
        "y.shape"
      ]
    },
    {
      "cell_type": "code",
      "execution_count": null,
      "id": "222e6471",
      "metadata": {
        "execution": {
          "iopub.execute_input": "2023-06-14T05:32:22.108512Z",
          "iopub.status.busy": "2023-06-14T05:32:22.107750Z",
          "iopub.status.idle": "2023-06-14T05:32:22.116288Z",
          "shell.execute_reply": "2023-06-14T05:32:22.115489Z"
        },
        "id": "222e6471",
        "outputId": "ff1a58f9-9ca9-4941-8437-1e24f6033339",
        "papermill": {
          "duration": 0.028921,
          "end_time": "2023-06-14T05:32:22.118583",
          "exception": false,
          "start_time": "2023-06-14T05:32:22.089662",
          "status": "completed"
        },
        "tags": []
      },
      "outputs": [
        {
          "data": {
            "text/plain": [
              "0       6\n",
              "1       6\n",
              "2       6\n",
              "3       6\n",
              "4       6\n",
              "       ..\n",
              "4893    6\n",
              "4894    5\n",
              "4895    6\n",
              "4896    7\n",
              "4897    6\n",
              "Name: quality, Length: 4898, dtype: int64"
            ]
          },
          "execution_count": 15,
          "metadata": {},
          "output_type": "execute_result"
        }
      ],
      "source": [
        "y"
      ]
    },
    {
      "cell_type": "code",
      "execution_count": null,
      "id": "4ef8a1c1",
      "metadata": {
        "execution": {
          "iopub.execute_input": "2023-06-14T05:32:22.156409Z",
          "iopub.status.busy": "2023-06-14T05:32:22.155804Z",
          "iopub.status.idle": "2023-06-14T05:32:22.161176Z",
          "shell.execute_reply": "2023-06-14T05:32:22.160449Z"
        },
        "id": "4ef8a1c1",
        "papermill": {
          "duration": 0.026701,
          "end_time": "2023-06-14T05:32:22.163313",
          "exception": false,
          "start_time": "2023-06-14T05:32:22.136612",
          "status": "completed"
        },
        "tags": []
      },
      "outputs": [],
      "source": [
        "x = df[['fixed acidity', 'volatile acidity', 'citric acid', 'residual sugar',\n",
        "       'chlorides', 'free sulfur dioxide', 'total sulfur dioxide', 'density',\n",
        "       'pH', 'sulphates', 'alcohol']]"
      ]
    },
    {
      "cell_type": "markdown",
      "id": "e0a440d6",
      "metadata": {
        "id": "e0a440d6",
        "papermill": {
          "duration": 0.017088,
          "end_time": "2023-06-14T05:32:22.197660",
          "exception": false,
          "start_time": "2023-06-14T05:32:22.180572",
          "status": "completed"
        },
        "tags": []
      },
      "source": [
        "or use .drop function to define x"
      ]
    },
    {
      "cell_type": "code",
      "execution_count": null,
      "id": "26474b10",
      "metadata": {
        "execution": {
          "iopub.execute_input": "2023-06-14T05:32:22.233992Z",
          "iopub.status.busy": "2023-06-14T05:32:22.233629Z",
          "iopub.status.idle": "2023-06-14T05:32:22.239525Z",
          "shell.execute_reply": "2023-06-14T05:32:22.238523Z"
        },
        "id": "26474b10",
        "papermill": {
          "duration": 0.026602,
          "end_time": "2023-06-14T05:32:22.241715",
          "exception": false,
          "start_time": "2023-06-14T05:32:22.215113",
          "status": "completed"
        },
        "tags": []
      },
      "outputs": [],
      "source": [
        "x = df.drop(['quality'],axis=1)"
      ]
    },
    {
      "cell_type": "code",
      "execution_count": null,
      "id": "b4b4078d",
      "metadata": {
        "execution": {
          "iopub.execute_input": "2023-06-14T05:32:22.278414Z",
          "iopub.status.busy": "2023-06-14T05:32:22.278002Z",
          "iopub.status.idle": "2023-06-14T05:32:22.285047Z",
          "shell.execute_reply": "2023-06-14T05:32:22.284062Z"
        },
        "id": "b4b4078d",
        "outputId": "56847e11-3c01-410d-8527-505571f02a10",
        "papermill": {
          "duration": 0.028455,
          "end_time": "2023-06-14T05:32:22.287413",
          "exception": false,
          "start_time": "2023-06-14T05:32:22.258958",
          "status": "completed"
        },
        "tags": []
      },
      "outputs": [
        {
          "data": {
            "text/plain": [
              "(4898, 11)"
            ]
          },
          "execution_count": 18,
          "metadata": {},
          "output_type": "execute_result"
        }
      ],
      "source": [
        "x.shape"
      ]
    },
    {
      "cell_type": "code",
      "execution_count": null,
      "id": "cc1528ba",
      "metadata": {
        "execution": {
          "iopub.execute_input": "2023-06-14T05:32:22.325838Z",
          "iopub.status.busy": "2023-06-14T05:32:22.325469Z",
          "iopub.status.idle": "2023-06-14T05:32:22.354562Z",
          "shell.execute_reply": "2023-06-14T05:32:22.353672Z"
        },
        "id": "cc1528ba",
        "outputId": "1affe11f-ba46-4296-aca4-e949c6b09122",
        "papermill": {
          "duration": 0.051461,
          "end_time": "2023-06-14T05:32:22.357033",
          "exception": false,
          "start_time": "2023-06-14T05:32:22.305572",
          "status": "completed"
        },
        "tags": []
      },
      "outputs": [
        {
          "data": {
            "text/html": [
              "<div>\n",
              "<style scoped>\n",
              "    .dataframe tbody tr th:only-of-type {\n",
              "        vertical-align: middle;\n",
              "    }\n",
              "\n",
              "    .dataframe tbody tr th {\n",
              "        vertical-align: top;\n",
              "    }\n",
              "\n",
              "    .dataframe thead th {\n",
              "        text-align: right;\n",
              "    }\n",
              "</style>\n",
              "<table border=\"1\" class=\"dataframe\">\n",
              "  <thead>\n",
              "    <tr style=\"text-align: right;\">\n",
              "      <th></th>\n",
              "      <th>fixed acidity</th>\n",
              "      <th>volatile acidity</th>\n",
              "      <th>citric acid</th>\n",
              "      <th>residual sugar</th>\n",
              "      <th>chlorides</th>\n",
              "      <th>free sulfur dioxide</th>\n",
              "      <th>total sulfur dioxide</th>\n",
              "      <th>density</th>\n",
              "      <th>pH</th>\n",
              "      <th>sulphates</th>\n",
              "      <th>alcohol</th>\n",
              "    </tr>\n",
              "  </thead>\n",
              "  <tbody>\n",
              "    <tr>\n",
              "      <th>0</th>\n",
              "      <td>7.0</td>\n",
              "      <td>0.27</td>\n",
              "      <td>0.36</td>\n",
              "      <td>20.7</td>\n",
              "      <td>0.045</td>\n",
              "      <td>45.0</td>\n",
              "      <td>170.0</td>\n",
              "      <td>1.00100</td>\n",
              "      <td>3.00</td>\n",
              "      <td>0.45</td>\n",
              "      <td>8.8</td>\n",
              "    </tr>\n",
              "    <tr>\n",
              "      <th>1</th>\n",
              "      <td>6.3</td>\n",
              "      <td>0.30</td>\n",
              "      <td>0.34</td>\n",
              "      <td>1.6</td>\n",
              "      <td>0.049</td>\n",
              "      <td>14.0</td>\n",
              "      <td>132.0</td>\n",
              "      <td>0.99400</td>\n",
              "      <td>3.30</td>\n",
              "      <td>0.49</td>\n",
              "      <td>9.5</td>\n",
              "    </tr>\n",
              "    <tr>\n",
              "      <th>2</th>\n",
              "      <td>8.1</td>\n",
              "      <td>0.28</td>\n",
              "      <td>0.40</td>\n",
              "      <td>6.9</td>\n",
              "      <td>0.050</td>\n",
              "      <td>30.0</td>\n",
              "      <td>97.0</td>\n",
              "      <td>0.99510</td>\n",
              "      <td>3.26</td>\n",
              "      <td>0.44</td>\n",
              "      <td>10.1</td>\n",
              "    </tr>\n",
              "    <tr>\n",
              "      <th>3</th>\n",
              "      <td>7.2</td>\n",
              "      <td>0.23</td>\n",
              "      <td>0.32</td>\n",
              "      <td>8.5</td>\n",
              "      <td>0.058</td>\n",
              "      <td>47.0</td>\n",
              "      <td>186.0</td>\n",
              "      <td>0.99560</td>\n",
              "      <td>3.19</td>\n",
              "      <td>0.40</td>\n",
              "      <td>9.9</td>\n",
              "    </tr>\n",
              "    <tr>\n",
              "      <th>4</th>\n",
              "      <td>7.2</td>\n",
              "      <td>0.23</td>\n",
              "      <td>0.32</td>\n",
              "      <td>8.5</td>\n",
              "      <td>0.058</td>\n",
              "      <td>47.0</td>\n",
              "      <td>186.0</td>\n",
              "      <td>0.99560</td>\n",
              "      <td>3.19</td>\n",
              "      <td>0.40</td>\n",
              "      <td>9.9</td>\n",
              "    </tr>\n",
              "    <tr>\n",
              "      <th>...</th>\n",
              "      <td>...</td>\n",
              "      <td>...</td>\n",
              "      <td>...</td>\n",
              "      <td>...</td>\n",
              "      <td>...</td>\n",
              "      <td>...</td>\n",
              "      <td>...</td>\n",
              "      <td>...</td>\n",
              "      <td>...</td>\n",
              "      <td>...</td>\n",
              "      <td>...</td>\n",
              "    </tr>\n",
              "    <tr>\n",
              "      <th>4893</th>\n",
              "      <td>6.2</td>\n",
              "      <td>0.21</td>\n",
              "      <td>0.29</td>\n",
              "      <td>1.6</td>\n",
              "      <td>0.039</td>\n",
              "      <td>24.0</td>\n",
              "      <td>92.0</td>\n",
              "      <td>0.99114</td>\n",
              "      <td>3.27</td>\n",
              "      <td>0.50</td>\n",
              "      <td>11.2</td>\n",
              "    </tr>\n",
              "    <tr>\n",
              "      <th>4894</th>\n",
              "      <td>6.6</td>\n",
              "      <td>0.32</td>\n",
              "      <td>0.36</td>\n",
              "      <td>8.0</td>\n",
              "      <td>0.047</td>\n",
              "      <td>57.0</td>\n",
              "      <td>168.0</td>\n",
              "      <td>0.99490</td>\n",
              "      <td>3.15</td>\n",
              "      <td>0.46</td>\n",
              "      <td>9.6</td>\n",
              "    </tr>\n",
              "    <tr>\n",
              "      <th>4895</th>\n",
              "      <td>6.5</td>\n",
              "      <td>0.24</td>\n",
              "      <td>0.19</td>\n",
              "      <td>1.2</td>\n",
              "      <td>0.041</td>\n",
              "      <td>30.0</td>\n",
              "      <td>111.0</td>\n",
              "      <td>0.99254</td>\n",
              "      <td>2.99</td>\n",
              "      <td>0.46</td>\n",
              "      <td>9.4</td>\n",
              "    </tr>\n",
              "    <tr>\n",
              "      <th>4896</th>\n",
              "      <td>5.5</td>\n",
              "      <td>0.29</td>\n",
              "      <td>0.30</td>\n",
              "      <td>1.1</td>\n",
              "      <td>0.022</td>\n",
              "      <td>20.0</td>\n",
              "      <td>110.0</td>\n",
              "      <td>0.98869</td>\n",
              "      <td>3.34</td>\n",
              "      <td>0.38</td>\n",
              "      <td>12.8</td>\n",
              "    </tr>\n",
              "    <tr>\n",
              "      <th>4897</th>\n",
              "      <td>6.0</td>\n",
              "      <td>0.21</td>\n",
              "      <td>0.38</td>\n",
              "      <td>0.8</td>\n",
              "      <td>0.020</td>\n",
              "      <td>22.0</td>\n",
              "      <td>98.0</td>\n",
              "      <td>0.98941</td>\n",
              "      <td>3.26</td>\n",
              "      <td>0.32</td>\n",
              "      <td>11.8</td>\n",
              "    </tr>\n",
              "  </tbody>\n",
              "</table>\n",
              "<p>4898 rows × 11 columns</p>\n",
              "</div>"
            ],
            "text/plain": [
              "      fixed acidity  volatile acidity  citric acid  residual sugar  chlorides  \\\n",
              "0               7.0              0.27         0.36            20.7      0.045   \n",
              "1               6.3              0.30         0.34             1.6      0.049   \n",
              "2               8.1              0.28         0.40             6.9      0.050   \n",
              "3               7.2              0.23         0.32             8.5      0.058   \n",
              "4               7.2              0.23         0.32             8.5      0.058   \n",
              "...             ...               ...          ...             ...        ...   \n",
              "4893            6.2              0.21         0.29             1.6      0.039   \n",
              "4894            6.6              0.32         0.36             8.0      0.047   \n",
              "4895            6.5              0.24         0.19             1.2      0.041   \n",
              "4896            5.5              0.29         0.30             1.1      0.022   \n",
              "4897            6.0              0.21         0.38             0.8      0.020   \n",
              "\n",
              "      free sulfur dioxide  total sulfur dioxide  density    pH  sulphates  \\\n",
              "0                    45.0                 170.0  1.00100  3.00       0.45   \n",
              "1                    14.0                 132.0  0.99400  3.30       0.49   \n",
              "2                    30.0                  97.0  0.99510  3.26       0.44   \n",
              "3                    47.0                 186.0  0.99560  3.19       0.40   \n",
              "4                    47.0                 186.0  0.99560  3.19       0.40   \n",
              "...                   ...                   ...      ...   ...        ...   \n",
              "4893                 24.0                  92.0  0.99114  3.27       0.50   \n",
              "4894                 57.0                 168.0  0.99490  3.15       0.46   \n",
              "4895                 30.0                 111.0  0.99254  2.99       0.46   \n",
              "4896                 20.0                 110.0  0.98869  3.34       0.38   \n",
              "4897                 22.0                  98.0  0.98941  3.26       0.32   \n",
              "\n",
              "      alcohol  \n",
              "0         8.8  \n",
              "1         9.5  \n",
              "2        10.1  \n",
              "3         9.9  \n",
              "4         9.9  \n",
              "...       ...  \n",
              "4893     11.2  \n",
              "4894      9.6  \n",
              "4895      9.4  \n",
              "4896     12.8  \n",
              "4897     11.8  \n",
              "\n",
              "[4898 rows x 11 columns]"
            ]
          },
          "execution_count": 19,
          "metadata": {},
          "output_type": "execute_result"
        }
      ],
      "source": [
        "x"
      ]
    },
    {
      "cell_type": "markdown",
      "id": "a7a56db3",
      "metadata": {
        "id": "a7a56db3",
        "papermill": {
          "duration": 0.018274,
          "end_time": "2023-06-14T05:32:22.393676",
          "exception": false,
          "start_time": "2023-06-14T05:32:22.375402",
          "status": "completed"
        },
        "tags": []
      },
      "source": [
        "# get X Variables Standarized\n",
        "\n",
        "Standarization of datasets is a common requirement for many machine learning estimators implemented in scikit-learn;they might behave badly if the individual features do not more or less lool like standard normally distributed data: Gaussian with zero mean and unit variance. Next approach is go for MiniMax scale"
      ]
    },
    {
      "cell_type": "code",
      "execution_count": null,
      "id": "8d671bc8",
      "metadata": {
        "execution": {
          "iopub.execute_input": "2023-06-14T05:32:22.432911Z",
          "iopub.status.busy": "2023-06-14T05:32:22.432131Z",
          "iopub.status.idle": "2023-06-14T05:32:23.739471Z",
          "shell.execute_reply": "2023-06-14T05:32:23.738253Z"
        },
        "id": "8d671bc8",
        "papermill": {
          "duration": 1.32955,
          "end_time": "2023-06-14T05:32:23.742135",
          "exception": false,
          "start_time": "2023-06-14T05:32:22.412585",
          "status": "completed"
        },
        "tags": []
      },
      "outputs": [],
      "source": [
        "from sklearn.preprocessing import StandardScaler"
      ]
    },
    {
      "cell_type": "code",
      "execution_count": null,
      "id": "0722abce",
      "metadata": {
        "execution": {
          "iopub.execute_input": "2023-06-14T05:32:23.780466Z",
          "iopub.status.busy": "2023-06-14T05:32:23.780084Z",
          "iopub.status.idle": "2023-06-14T05:32:23.784922Z",
          "shell.execute_reply": "2023-06-14T05:32:23.783551Z"
        },
        "id": "0722abce",
        "papermill": {
          "duration": 0.026679,
          "end_time": "2023-06-14T05:32:23.787105",
          "exception": false,
          "start_time": "2023-06-14T05:32:23.760426",
          "status": "completed"
        },
        "tags": []
      },
      "outputs": [],
      "source": [
        "ss = StandardScaler()"
      ]
    },
    {
      "cell_type": "code",
      "execution_count": null,
      "id": "b46adcaa",
      "metadata": {
        "execution": {
          "iopub.execute_input": "2023-06-14T05:32:23.827178Z",
          "iopub.status.busy": "2023-06-14T05:32:23.826509Z",
          "iopub.status.idle": "2023-06-14T05:32:23.835788Z",
          "shell.execute_reply": "2023-06-14T05:32:23.834640Z"
        },
        "id": "b46adcaa",
        "papermill": {
          "duration": 0.032559,
          "end_time": "2023-06-14T05:32:23.838690",
          "exception": false,
          "start_time": "2023-06-14T05:32:23.806131",
          "status": "completed"
        },
        "tags": []
      },
      "outputs": [],
      "source": [
        "x = ss.fit_transform(x)"
      ]
    },
    {
      "cell_type": "code",
      "execution_count": null,
      "id": "833b7891",
      "metadata": {
        "execution": {
          "iopub.execute_input": "2023-06-14T05:32:23.878054Z",
          "iopub.status.busy": "2023-06-14T05:32:23.877252Z",
          "iopub.status.idle": "2023-06-14T05:32:23.884952Z",
          "shell.execute_reply": "2023-06-14T05:32:23.884019Z"
        },
        "id": "833b7891",
        "outputId": "549e5bd2-9792-4282-956a-bfd97efef3ad",
        "papermill": {
          "duration": 0.030139,
          "end_time": "2023-06-14T05:32:23.887238",
          "exception": false,
          "start_time": "2023-06-14T05:32:23.857099",
          "status": "completed"
        },
        "tags": []
      },
      "outputs": [
        {
          "data": {
            "text/plain": [
              "array([[ 1.72096961e-01, -8.17699008e-02,  2.13280202e-01, ...,\n",
              "        -1.24692128e+00, -3.49184257e-01, -1.39315246e+00],\n",
              "       [-6.57501128e-01,  2.15895632e-01,  4.80011213e-02, ...,\n",
              "         7.40028640e-01,  1.34184656e-03, -8.24275678e-01],\n",
              "       [ 1.47575110e+00,  1.74519434e-02,  5.43838363e-01, ...,\n",
              "         4.75101984e-01, -4.36815783e-01, -3.36667007e-01],\n",
              "       ...,\n",
              "       [-4.20473102e-01, -3.79435433e-01, -1.19159198e+00, ...,\n",
              "        -1.31315295e+00, -2.61552731e-01, -9.05543789e-01],\n",
              "       [-1.60561323e+00,  1.16673788e-01, -2.82557040e-01, ...,\n",
              "         1.00495530e+00, -9.62604939e-01,  1.85757201e+00],\n",
              "       [-1.01304317e+00, -6.77100966e-01,  3.78559282e-01, ...,\n",
              "         4.75101984e-01, -1.48839409e+00,  1.04489089e+00]])"
            ]
          },
          "execution_count": 23,
          "metadata": {},
          "output_type": "execute_result"
        }
      ],
      "source": [
        "x"
      ]
    },
    {
      "cell_type": "markdown",
      "id": "70489435",
      "metadata": {
        "id": "70489435",
        "papermill": {
          "duration": 0.018626,
          "end_time": "2023-06-14T05:32:23.924474",
          "exception": false,
          "start_time": "2023-06-14T05:32:23.905848",
          "status": "completed"
        },
        "tags": []
      },
      "source": [
        "#Get Train Test Split"
      ]
    },
    {
      "cell_type": "code",
      "execution_count": null,
      "id": "a2bce9c6",
      "metadata": {
        "execution": {
          "iopub.execute_input": "2023-06-14T05:32:23.963948Z",
          "iopub.status.busy": "2023-06-14T05:32:23.963160Z",
          "iopub.status.idle": "2023-06-14T05:32:24.074434Z",
          "shell.execute_reply": "2023-06-14T05:32:24.073191Z"
        },
        "id": "a2bce9c6",
        "papermill": {
          "duration": 0.134363,
          "end_time": "2023-06-14T05:32:24.077477",
          "exception": false,
          "start_time": "2023-06-14T05:32:23.943114",
          "status": "completed"
        },
        "tags": []
      },
      "outputs": [],
      "source": [
        "from sklearn.model_selection import train_test_split"
      ]
    },
    {
      "cell_type": "code",
      "execution_count": null,
      "id": "d17bebeb",
      "metadata": {
        "execution": {
          "iopub.execute_input": "2023-06-14T05:32:24.119173Z",
          "iopub.status.busy": "2023-06-14T05:32:24.118727Z",
          "iopub.status.idle": "2023-06-14T05:32:24.130287Z",
          "shell.execute_reply": "2023-06-14T05:32:24.129447Z"
        },
        "id": "d17bebeb",
        "papermill": {
          "duration": 0.034779,
          "end_time": "2023-06-14T05:32:24.132748",
          "exception": false,
          "start_time": "2023-06-14T05:32:24.097969",
          "status": "completed"
        },
        "tags": []
      },
      "outputs": [],
      "source": [
        "x_train, x_test, y_train, y_test = train_test_split(x,y, test_size= 0.3, stratify=y, random_state=2529)"
      ]
    },
    {
      "cell_type": "code",
      "execution_count": null,
      "id": "877becdf",
      "metadata": {
        "execution": {
          "iopub.execute_input": "2023-06-14T05:32:24.172229Z",
          "iopub.status.busy": "2023-06-14T05:32:24.171451Z",
          "iopub.status.idle": "2023-06-14T05:32:24.179039Z",
          "shell.execute_reply": "2023-06-14T05:32:24.177899Z"
        },
        "id": "877becdf",
        "outputId": "3de60cac-011e-4092-d3f9-cfaa7775a31a",
        "papermill": {
          "duration": 0.030071,
          "end_time": "2023-06-14T05:32:24.181421",
          "exception": false,
          "start_time": "2023-06-14T05:32:24.151350",
          "status": "completed"
        },
        "tags": []
      },
      "outputs": [
        {
          "data": {
            "text/plain": [
              "((3428, 11), (1470, 11), (3428,), (1470,))"
            ]
          },
          "execution_count": 26,
          "metadata": {},
          "output_type": "execute_result"
        }
      ],
      "source": [
        "x_train.shape, x_test.shape, y_train.shape, y_test.shape"
      ]
    },
    {
      "cell_type": "markdown",
      "id": "7abfc842",
      "metadata": {
        "id": "7abfc842",
        "papermill": {
          "duration": 0.018489,
          "end_time": "2023-06-14T05:32:24.218730",
          "exception": false,
          "start_time": "2023-06-14T05:32:24.200241",
          "status": "completed"
        },
        "tags": []
      },
      "source": [
        "#Get Model Train"
      ]
    },
    {
      "cell_type": "code",
      "execution_count": null,
      "id": "ec129c14",
      "metadata": {
        "execution": {
          "iopub.execute_input": "2023-06-14T05:32:24.258286Z",
          "iopub.status.busy": "2023-06-14T05:32:24.257883Z",
          "iopub.status.idle": "2023-06-14T05:32:24.360018Z",
          "shell.execute_reply": "2023-06-14T05:32:24.358856Z"
        },
        "id": "ec129c14",
        "papermill": {
          "duration": 0.125433,
          "end_time": "2023-06-14T05:32:24.362888",
          "exception": false,
          "start_time": "2023-06-14T05:32:24.237455",
          "status": "completed"
        },
        "tags": []
      },
      "outputs": [],
      "source": [
        "from sklearn.svm import SVC"
      ]
    },
    {
      "cell_type": "code",
      "execution_count": null,
      "id": "7369cd0a",
      "metadata": {
        "execution": {
          "iopub.execute_input": "2023-06-14T05:32:24.402852Z",
          "iopub.status.busy": "2023-06-14T05:32:24.402200Z",
          "iopub.status.idle": "2023-06-14T05:32:24.406929Z",
          "shell.execute_reply": "2023-06-14T05:32:24.406178Z"
        },
        "id": "7369cd0a",
        "papermill": {
          "duration": 0.027135,
          "end_time": "2023-06-14T05:32:24.409067",
          "exception": false,
          "start_time": "2023-06-14T05:32:24.381932",
          "status": "completed"
        },
        "tags": []
      },
      "outputs": [],
      "source": [
        "svc = SVC()"
      ]
    },
    {
      "cell_type": "code",
      "execution_count": null,
      "id": "0ff3e590",
      "metadata": {
        "execution": {
          "iopub.execute_input": "2023-06-14T05:32:24.448932Z",
          "iopub.status.busy": "2023-06-14T05:32:24.448272Z",
          "iopub.status.idle": "2023-06-14T05:32:25.119473Z",
          "shell.execute_reply": "2023-06-14T05:32:25.118197Z"
        },
        "id": "0ff3e590",
        "outputId": "d4aaf998-a84c-428a-d81d-575abb4977cf",
        "papermill": {
          "duration": 0.693923,
          "end_time": "2023-06-14T05:32:25.121868",
          "exception": false,
          "start_time": "2023-06-14T05:32:24.427945",
          "status": "completed"
        },
        "tags": []
      },
      "outputs": [
        {
          "data": {
            "text/html": [
              "<style>#sk-container-id-1 {color: black;background-color: white;}#sk-container-id-1 pre{padding: 0;}#sk-container-id-1 div.sk-toggleable {background-color: white;}#sk-container-id-1 label.sk-toggleable__label {cursor: pointer;display: block;width: 100%;margin-bottom: 0;padding: 0.3em;box-sizing: border-box;text-align: center;}#sk-container-id-1 label.sk-toggleable__label-arrow:before {content: \"▸\";float: left;margin-right: 0.25em;color: #696969;}#sk-container-id-1 label.sk-toggleable__label-arrow:hover:before {color: black;}#sk-container-id-1 div.sk-estimator:hover label.sk-toggleable__label-arrow:before {color: black;}#sk-container-id-1 div.sk-toggleable__content {max-height: 0;max-width: 0;overflow: hidden;text-align: left;background-color: #f0f8ff;}#sk-container-id-1 div.sk-toggleable__content pre {margin: 0.2em;color: black;border-radius: 0.25em;background-color: #f0f8ff;}#sk-container-id-1 input.sk-toggleable__control:checked~div.sk-toggleable__content {max-height: 200px;max-width: 100%;overflow: auto;}#sk-container-id-1 input.sk-toggleable__control:checked~label.sk-toggleable__label-arrow:before {content: \"▾\";}#sk-container-id-1 div.sk-estimator input.sk-toggleable__control:checked~label.sk-toggleable__label {background-color: #d4ebff;}#sk-container-id-1 div.sk-label input.sk-toggleable__control:checked~label.sk-toggleable__label {background-color: #d4ebff;}#sk-container-id-1 input.sk-hidden--visually {border: 0;clip: rect(1px 1px 1px 1px);clip: rect(1px, 1px, 1px, 1px);height: 1px;margin: -1px;overflow: hidden;padding: 0;position: absolute;width: 1px;}#sk-container-id-1 div.sk-estimator {font-family: monospace;background-color: #f0f8ff;border: 1px dotted black;border-radius: 0.25em;box-sizing: border-box;margin-bottom: 0.5em;}#sk-container-id-1 div.sk-estimator:hover {background-color: #d4ebff;}#sk-container-id-1 div.sk-parallel-item::after {content: \"\";width: 100%;border-bottom: 1px solid gray;flex-grow: 1;}#sk-container-id-1 div.sk-label:hover label.sk-toggleable__label {background-color: #d4ebff;}#sk-container-id-1 div.sk-serial::before {content: \"\";position: absolute;border-left: 1px solid gray;box-sizing: border-box;top: 0;bottom: 0;left: 50%;z-index: 0;}#sk-container-id-1 div.sk-serial {display: flex;flex-direction: column;align-items: center;background-color: white;padding-right: 0.2em;padding-left: 0.2em;position: relative;}#sk-container-id-1 div.sk-item {position: relative;z-index: 1;}#sk-container-id-1 div.sk-parallel {display: flex;align-items: stretch;justify-content: center;background-color: white;position: relative;}#sk-container-id-1 div.sk-item::before, #sk-container-id-1 div.sk-parallel-item::before {content: \"\";position: absolute;border-left: 1px solid gray;box-sizing: border-box;top: 0;bottom: 0;left: 50%;z-index: -1;}#sk-container-id-1 div.sk-parallel-item {display: flex;flex-direction: column;z-index: 1;position: relative;background-color: white;}#sk-container-id-1 div.sk-parallel-item:first-child::after {align-self: flex-end;width: 50%;}#sk-container-id-1 div.sk-parallel-item:last-child::after {align-self: flex-start;width: 50%;}#sk-container-id-1 div.sk-parallel-item:only-child::after {width: 0;}#sk-container-id-1 div.sk-dashed-wrapped {border: 1px dashed gray;margin: 0 0.4em 0.5em 0.4em;box-sizing: border-box;padding-bottom: 0.4em;background-color: white;}#sk-container-id-1 div.sk-label label {font-family: monospace;font-weight: bold;display: inline-block;line-height: 1.2em;}#sk-container-id-1 div.sk-label-container {text-align: center;}#sk-container-id-1 div.sk-container {/* jupyter's `normalize.less` sets `[hidden] { display: none; }` but bootstrap.min.css set `[hidden] { display: none !important; }` so we also need the `!important` here to be able to override the default hidden behavior on the sphinx rendered scikit-learn.org. See: https://github.com/scikit-learn/scikit-learn/issues/21755 */display: inline-block !important;position: relative;}#sk-container-id-1 div.sk-text-repr-fallback {display: none;}</style><div id=\"sk-container-id-1\" class=\"sk-top-container\"><div class=\"sk-text-repr-fallback\"><pre>SVC()</pre><b>In a Jupyter environment, please rerun this cell to show the HTML representation or trust the notebook. <br />On GitHub, the HTML representation is unable to render, please try loading this page with nbviewer.org.</b></div><div class=\"sk-container\" hidden><div class=\"sk-item\"><div class=\"sk-estimator sk-toggleable\"><input class=\"sk-toggleable__control sk-hidden--visually\" id=\"sk-estimator-id-1\" type=\"checkbox\" checked><label for=\"sk-estimator-id-1\" class=\"sk-toggleable__label sk-toggleable__label-arrow\">SVC</label><div class=\"sk-toggleable__content\"><pre>SVC()</pre></div></div></div></div></div>"
            ],
            "text/plain": [
              "SVC()"
            ]
          },
          "execution_count": 29,
          "metadata": {},
          "output_type": "execute_result"
        }
      ],
      "source": [
        "svc.fit(x_train,y_train)"
      ]
    },
    {
      "cell_type": "markdown",
      "id": "ef783296",
      "metadata": {
        "id": "ef783296",
        "papermill": {
          "duration": 0.020353,
          "end_time": "2023-06-14T05:32:25.162183",
          "exception": false,
          "start_time": "2023-06-14T05:32:25.141830",
          "status": "completed"
        },
        "tags": []
      },
      "source": [
        "#Get Model Prediction"
      ]
    },
    {
      "cell_type": "code",
      "execution_count": null,
      "id": "d7a41934",
      "metadata": {
        "execution": {
          "iopub.execute_input": "2023-06-14T05:32:25.204117Z",
          "iopub.status.busy": "2023-06-14T05:32:25.203724Z",
          "iopub.status.idle": "2023-06-14T05:32:25.509119Z",
          "shell.execute_reply": "2023-06-14T05:32:25.507922Z"
        },
        "id": "d7a41934",
        "papermill": {
          "duration": 0.330707,
          "end_time": "2023-06-14T05:32:25.512287",
          "exception": false,
          "start_time": "2023-06-14T05:32:25.181580",
          "status": "completed"
        },
        "tags": []
      },
      "outputs": [],
      "source": [
        "y_pred = svc.predict(x_test)"
      ]
    },
    {
      "cell_type": "code",
      "execution_count": null,
      "id": "834e003a",
      "metadata": {
        "execution": {
          "iopub.execute_input": "2023-06-14T05:32:25.553763Z",
          "iopub.status.busy": "2023-06-14T05:32:25.553391Z",
          "iopub.status.idle": "2023-06-14T05:32:25.560332Z",
          "shell.execute_reply": "2023-06-14T05:32:25.559180Z"
        },
        "id": "834e003a",
        "outputId": "16f121ae-9caf-42a0-dcba-92f21d8616ea",
        "papermill": {
          "duration": 0.03015,
          "end_time": "2023-06-14T05:32:25.562619",
          "exception": false,
          "start_time": "2023-06-14T05:32:25.532469",
          "status": "completed"
        },
        "tags": []
      },
      "outputs": [
        {
          "data": {
            "text/plain": [
              "(1470,)"
            ]
          },
          "execution_count": 31,
          "metadata": {},
          "output_type": "execute_result"
        }
      ],
      "source": [
        "y_pred.shape"
      ]
    },
    {
      "cell_type": "code",
      "execution_count": null,
      "id": "1f884735",
      "metadata": {
        "execution": {
          "iopub.execute_input": "2023-06-14T05:32:25.603792Z",
          "iopub.status.busy": "2023-06-14T05:32:25.603352Z",
          "iopub.status.idle": "2023-06-14T05:32:25.610893Z",
          "shell.execute_reply": "2023-06-14T05:32:25.609938Z"
        },
        "id": "1f884735",
        "outputId": "0fe6e523-c88e-43b9-ff2f-a4453518035f",
        "papermill": {
          "duration": 0.030721,
          "end_time": "2023-06-14T05:32:25.613025",
          "exception": false,
          "start_time": "2023-06-14T05:32:25.582304",
          "status": "completed"
        },
        "tags": []
      },
      "outputs": [
        {
          "data": {
            "text/plain": [
              "array([5, 7, 5, ..., 5, 5, 5])"
            ]
          },
          "execution_count": 32,
          "metadata": {},
          "output_type": "execute_result"
        }
      ],
      "source": [
        "y_pred"
      ]
    },
    {
      "cell_type": "markdown",
      "id": "68596151",
      "metadata": {
        "id": "68596151",
        "papermill": {
          "duration": 0.019693,
          "end_time": "2023-06-14T05:32:25.652586",
          "exception": false,
          "start_time": "2023-06-14T05:32:25.632893",
          "status": "completed"
        },
        "tags": []
      },
      "source": [
        "#Get Model Evaluation"
      ]
    },
    {
      "cell_type": "code",
      "execution_count": null,
      "id": "e5e4b0be",
      "metadata": {
        "execution": {
          "iopub.execute_input": "2023-06-14T05:32:25.693722Z",
          "iopub.status.busy": "2023-06-14T05:32:25.693082Z",
          "iopub.status.idle": "2023-06-14T05:32:25.697712Z",
          "shell.execute_reply": "2023-06-14T05:32:25.696528Z"
        },
        "id": "e5e4b0be",
        "papermill": {
          "duration": 0.027902,
          "end_time": "2023-06-14T05:32:25.700039",
          "exception": false,
          "start_time": "2023-06-14T05:32:25.672137",
          "status": "completed"
        },
        "tags": []
      },
      "outputs": [],
      "source": [
        "from sklearn.metrics import confusion_matrix, classification_report"
      ]
    },
    {
      "cell_type": "code",
      "execution_count": null,
      "id": "04fea086",
      "metadata": {
        "execution": {
          "iopub.execute_input": "2023-06-14T05:32:25.742300Z",
          "iopub.status.busy": "2023-06-14T05:32:25.741909Z",
          "iopub.status.idle": "2023-06-14T05:32:25.752593Z",
          "shell.execute_reply": "2023-06-14T05:32:25.751384Z"
        },
        "id": "04fea086",
        "outputId": "2d2e09ca-7eff-4a90-db16-4f2dfcbb3dce",
        "papermill": {
          "duration": 0.034251,
          "end_time": "2023-06-14T05:32:25.754857",
          "exception": false,
          "start_time": "2023-06-14T05:32:25.720606",
          "status": "completed"
        },
        "tags": []
      },
      "outputs": [
        {
          "name": "stdout",
          "output_type": "stream",
          "text": [
            "[[  0   0   1   5   0   0   0]\n",
            " [  0   2  25  22   0   0   0]\n",
            " [  0   3 273 160   1   0   0]\n",
            " [  0   0 122 515  23   0   0]\n",
            " [  0   0   6 191  67   0   0]\n",
            " [  0   0   0  39  14   0   0]\n",
            " [  0   0   0   0   1   0   0]]\n"
          ]
        }
      ],
      "source": [
        "print(confusion_matrix(y_test,y_pred))"
      ]
    },
    {
      "cell_type": "code",
      "execution_count": null,
      "id": "283681d8",
      "metadata": {
        "execution": {
          "iopub.execute_input": "2023-06-14T05:32:25.797163Z",
          "iopub.status.busy": "2023-06-14T05:32:25.796796Z",
          "iopub.status.idle": "2023-06-14T05:32:25.817735Z",
          "shell.execute_reply": "2023-06-14T05:32:25.816105Z"
        },
        "id": "283681d8",
        "outputId": "67cf24d7-0c26-4af3-aa4d-0ac904fced65",
        "papermill": {
          "duration": 0.045284,
          "end_time": "2023-06-14T05:32:25.820298",
          "exception": false,
          "start_time": "2023-06-14T05:32:25.775014",
          "status": "completed"
        },
        "tags": []
      },
      "outputs": [
        {
          "name": "stdout",
          "output_type": "stream",
          "text": [
            "              precision    recall  f1-score   support\n",
            "\n",
            "           3       0.00      0.00      0.00         6\n",
            "           4       0.40      0.04      0.07        49\n",
            "           5       0.64      0.62      0.63       437\n",
            "           6       0.55      0.78      0.65       660\n",
            "           7       0.63      0.25      0.36       264\n",
            "           8       0.00      0.00      0.00        53\n",
            "           9       0.00      0.00      0.00         1\n",
            "\n",
            "    accuracy                           0.58      1470\n",
            "   macro avg       0.32      0.24      0.25      1470\n",
            "weighted avg       0.57      0.58      0.55      1470\n",
            "\n"
          ]
        },
        {
          "name": "stderr",
          "output_type": "stream",
          "text": [
            "/opt/conda/lib/python3.10/site-packages/sklearn/metrics/_classification.py:1344: UndefinedMetricWarning: Precision and F-score are ill-defined and being set to 0.0 in labels with no predicted samples. Use `zero_division` parameter to control this behavior.\n",
            "  _warn_prf(average, modifier, msg_start, len(result))\n",
            "/opt/conda/lib/python3.10/site-packages/sklearn/metrics/_classification.py:1344: UndefinedMetricWarning: Precision and F-score are ill-defined and being set to 0.0 in labels with no predicted samples. Use `zero_division` parameter to control this behavior.\n",
            "  _warn_prf(average, modifier, msg_start, len(result))\n",
            "/opt/conda/lib/python3.10/site-packages/sklearn/metrics/_classification.py:1344: UndefinedMetricWarning: Precision and F-score are ill-defined and being set to 0.0 in labels with no predicted samples. Use `zero_division` parameter to control this behavior.\n",
            "  _warn_prf(average, modifier, msg_start, len(result))\n"
          ]
        }
      ],
      "source": [
        "print(classification_report(y_test,y_pred))"
      ]
    },
    {
      "cell_type": "markdown",
      "id": "c6657c9a",
      "metadata": {
        "id": "c6657c9a",
        "papermill": {
          "duration": 0.019687,
          "end_time": "2023-06-14T05:32:25.860210",
          "exception": false,
          "start_time": "2023-06-14T05:32:25.840523",
          "status": "completed"
        },
        "tags": []
      },
      "source": [
        "#Get Future Predictions\n",
        "\n",
        "Steps to follow\n",
        "1. Extract a random row using sample function\n",
        "2. Separate X and Y\n",
        "3. Standardize X\n",
        "4. Predict"
      ]
    },
    {
      "cell_type": "code",
      "execution_count": null,
      "id": "b6954170",
      "metadata": {
        "execution": {
          "iopub.execute_input": "2023-06-14T05:32:25.902250Z",
          "iopub.status.busy": "2023-06-14T05:32:25.901836Z",
          "iopub.status.idle": "2023-06-14T05:32:25.909749Z",
          "shell.execute_reply": "2023-06-14T05:32:25.908422Z"
        },
        "id": "b6954170",
        "papermill": {
          "duration": 0.031745,
          "end_time": "2023-06-14T05:32:25.912173",
          "exception": false,
          "start_time": "2023-06-14T05:32:25.880428",
          "status": "completed"
        },
        "tags": []
      },
      "outputs": [],
      "source": [
        "df_new = df.sample(1)"
      ]
    },
    {
      "cell_type": "code",
      "execution_count": null,
      "id": "db01d6af",
      "metadata": {
        "execution": {
          "iopub.execute_input": "2023-06-14T05:32:25.954663Z",
          "iopub.status.busy": "2023-06-14T05:32:25.954219Z",
          "iopub.status.idle": "2023-06-14T05:32:25.972360Z",
          "shell.execute_reply": "2023-06-14T05:32:25.971279Z"
        },
        "id": "db01d6af",
        "outputId": "d7868f46-c44f-411a-abe0-aa4965e2cb60",
        "papermill": {
          "duration": 0.042008,
          "end_time": "2023-06-14T05:32:25.974680",
          "exception": false,
          "start_time": "2023-06-14T05:32:25.932672",
          "status": "completed"
        },
        "tags": []
      },
      "outputs": [
        {
          "data": {
            "text/html": [
              "<div>\n",
              "<style scoped>\n",
              "    .dataframe tbody tr th:only-of-type {\n",
              "        vertical-align: middle;\n",
              "    }\n",
              "\n",
              "    .dataframe tbody tr th {\n",
              "        vertical-align: top;\n",
              "    }\n",
              "\n",
              "    .dataframe thead th {\n",
              "        text-align: right;\n",
              "    }\n",
              "</style>\n",
              "<table border=\"1\" class=\"dataframe\">\n",
              "  <thead>\n",
              "    <tr style=\"text-align: right;\">\n",
              "      <th></th>\n",
              "      <th>fixed acidity</th>\n",
              "      <th>volatile acidity</th>\n",
              "      <th>citric acid</th>\n",
              "      <th>residual sugar</th>\n",
              "      <th>chlorides</th>\n",
              "      <th>free sulfur dioxide</th>\n",
              "      <th>total sulfur dioxide</th>\n",
              "      <th>density</th>\n",
              "      <th>pH</th>\n",
              "      <th>sulphates</th>\n",
              "      <th>alcohol</th>\n",
              "      <th>quality</th>\n",
              "    </tr>\n",
              "  </thead>\n",
              "  <tbody>\n",
              "    <tr>\n",
              "      <th>3690</th>\n",
              "      <td>5.6</td>\n",
              "      <td>0.21</td>\n",
              "      <td>0.24</td>\n",
              "      <td>4.4</td>\n",
              "      <td>0.027</td>\n",
              "      <td>37.0</td>\n",
              "      <td>150.0</td>\n",
              "      <td>0.991</td>\n",
              "      <td>3.3</td>\n",
              "      <td>0.31</td>\n",
              "      <td>11.5</td>\n",
              "      <td>7</td>\n",
              "    </tr>\n",
              "  </tbody>\n",
              "</table>\n",
              "</div>"
            ],
            "text/plain": [
              "      fixed acidity  volatile acidity  citric acid  residual sugar  chlorides  \\\n",
              "3690            5.6              0.21         0.24             4.4      0.027   \n",
              "\n",
              "      free sulfur dioxide  total sulfur dioxide  density   pH  sulphates  \\\n",
              "3690                 37.0                 150.0    0.991  3.3       0.31   \n",
              "\n",
              "      alcohol  quality  \n",
              "3690     11.5        7  "
            ]
          },
          "execution_count": 37,
          "metadata": {},
          "output_type": "execute_result"
        }
      ],
      "source": [
        "df_new"
      ]
    },
    {
      "cell_type": "code",
      "execution_count": null,
      "id": "e65a3ecd",
      "metadata": {
        "execution": {
          "iopub.execute_input": "2023-06-14T05:32:26.020003Z",
          "iopub.status.busy": "2023-06-14T05:32:26.019643Z",
          "iopub.status.idle": "2023-06-14T05:32:26.025567Z",
          "shell.execute_reply": "2023-06-14T05:32:26.024765Z"
        },
        "id": "e65a3ecd",
        "outputId": "fdb0b4b6-14e9-41d7-ee57-5442e6b9c250",
        "papermill": {
          "duration": 0.032175,
          "end_time": "2023-06-14T05:32:26.027567",
          "exception": false,
          "start_time": "2023-06-14T05:32:25.995392",
          "status": "completed"
        },
        "tags": []
      },
      "outputs": [
        {
          "data": {
            "text/plain": [
              "(1, 12)"
            ]
          },
          "execution_count": 38,
          "metadata": {},
          "output_type": "execute_result"
        }
      ],
      "source": [
        "df_new.shape"
      ]
    },
    {
      "cell_type": "code",
      "execution_count": null,
      "id": "66cffa3f",
      "metadata": {
        "execution": {
          "iopub.execute_input": "2023-06-14T05:32:26.071508Z",
          "iopub.status.busy": "2023-06-14T05:32:26.071110Z",
          "iopub.status.idle": "2023-06-14T05:32:26.077258Z",
          "shell.execute_reply": "2023-06-14T05:32:26.076271Z"
        },
        "id": "66cffa3f",
        "papermill": {
          "duration": 0.031076,
          "end_time": "2023-06-14T05:32:26.079383",
          "exception": false,
          "start_time": "2023-06-14T05:32:26.048307",
          "status": "completed"
        },
        "tags": []
      },
      "outputs": [],
      "source": [
        "x_new = df_new.drop(['quality'],axis = 1)"
      ]
    },
    {
      "cell_type": "code",
      "execution_count": null,
      "id": "7787f7db",
      "metadata": {
        "execution": {
          "iopub.execute_input": "2023-06-14T05:32:26.124061Z",
          "iopub.status.busy": "2023-06-14T05:32:26.123671Z",
          "iopub.status.idle": "2023-06-14T05:32:26.132251Z",
          "shell.execute_reply": "2023-06-14T05:32:26.131107Z"
        },
        "id": "7787f7db",
        "papermill": {
          "duration": 0.034146,
          "end_time": "2023-06-14T05:32:26.134496",
          "exception": false,
          "start_time": "2023-06-14T05:32:26.100350",
          "status": "completed"
        },
        "tags": []
      },
      "outputs": [],
      "source": [
        "x_new = ss.fit_transform(x_new)"
      ]
    },
    {
      "cell_type": "code",
      "execution_count": null,
      "id": "488eb598",
      "metadata": {
        "execution": {
          "iopub.execute_input": "2023-06-14T05:32:26.178432Z",
          "iopub.status.busy": "2023-06-14T05:32:26.178000Z",
          "iopub.status.idle": "2023-06-14T05:32:26.184018Z",
          "shell.execute_reply": "2023-06-14T05:32:26.182756Z"
        },
        "id": "488eb598",
        "papermill": {
          "duration": 0.03086,
          "end_time": "2023-06-14T05:32:26.186474",
          "exception": false,
          "start_time": "2023-06-14T05:32:26.155614",
          "status": "completed"
        },
        "tags": []
      },
      "outputs": [],
      "source": [
        "y_pred_new = svc.predict(x_new)"
      ]
    },
    {
      "cell_type": "code",
      "execution_count": null,
      "id": "1551df0a",
      "metadata": {
        "execution": {
          "iopub.execute_input": "2023-06-14T05:32:26.232377Z",
          "iopub.status.busy": "2023-06-14T05:32:26.231658Z",
          "iopub.status.idle": "2023-06-14T05:32:26.238921Z",
          "shell.execute_reply": "2023-06-14T05:32:26.237699Z"
        },
        "id": "1551df0a",
        "outputId": "86beca10-3fc2-4622-9999-f7f429aa3625",
        "papermill": {
          "duration": 0.033385,
          "end_time": "2023-06-14T05:32:26.241114",
          "exception": false,
          "start_time": "2023-06-14T05:32:26.207729",
          "status": "completed"
        },
        "tags": []
      },
      "outputs": [
        {
          "data": {
            "text/plain": [
              "array([6])"
            ]
          },
          "execution_count": 42,
          "metadata": {},
          "output_type": "execute_result"
        }
      ],
      "source": [
        "y_pred_new"
      ]
    }
  ],
  "metadata": {
    "kernelspec": {
      "display_name": "Python 3",
      "language": "python",
      "name": "python3"
    },
    "language_info": {
      "codemirror_mode": {
        "name": "ipython",
        "version": 3
      },
      "file_extension": ".py",
      "mimetype": "text/x-python",
      "name": "python",
      "nbconvert_exporter": "python",
      "pygments_lexer": "ipython3",
      "version": "3.10.10"
    },
    "papermill": {
      "default_parameters": {},
      "duration": 19.118484,
      "end_time": "2023-06-14T05:32:27.185919",
      "environment_variables": {},
      "exception": null,
      "input_path": "__notebook__.ipynb",
      "output_path": "__notebook__.ipynb",
      "parameters": {},
      "start_time": "2023-06-14T05:32:08.067435",
      "version": "2.4.0"
    },
    "colab": {
      "provenance": []
    }
  },
  "nbformat": 4,
  "nbformat_minor": 5
}